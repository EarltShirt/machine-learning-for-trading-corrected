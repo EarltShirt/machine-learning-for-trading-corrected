{
 "cells": [
  {
   "cell_type": "markdown",
   "metadata": {
    "pycharm": {
     "name": "#%% md\n"
    }
   },
   "source": [
    "# Working with Order Book Data: NASDAQ ITCH"
   ]
  },
  {
   "cell_type": "markdown",
   "metadata": {
    "pycharm": {
     "name": "#%% md\n"
    }
   },
   "source": [
    "The primary source of market data is the order book, which is continuously updated in real-time throughout the day to reflect all trading activity. Exchanges typically offer this data as a real-time service and may provide some historical data for free.\n",
    "\n",
    "The trading activity is reflected in numerous messages about trade orders sent by market participants. These messages typically conform to the electronic Financial Information eXchange (FIX) communications protocol for real-time exchange of securities transactions and market data or a native exchange protocol. "
   ]
  },
  {
   "cell_type": "markdown",
   "metadata": {
    "pycharm": {
     "name": "#%% md\n"
    }
   },
   "source": [
    "## Background"
   ]
  },
  {
   "cell_type": "markdown",
   "metadata": {
    "pycharm": {
     "name": "#%% md\n"
    }
   },
   "source": [
    "### The FIX Protocol"
   ]
  },
  {
   "cell_type": "markdown",
   "metadata": {
    "pycharm": {
     "name": "#%% md\n"
    }
   },
   "source": [
    "Just like SWIFT is the message protocol for back-office (example, for trade-settlement) messaging, the [FIX protocol](https://www.fixtrading.org/standards/) is the de facto messaging standard for communication before and during, trade execution between exchanges, banks, brokers, clearing firms, and other market participants. Fidelity Investments and Salomon Brothers introduced FIX in 1992 to facilitate electronic communication between broker-dealers and institutional clients who by then exchanged information over the phone.\n",
    "\n",
    "It became popular in global equity markets before expanding into foreign exchange, fixed income and derivatives markets, and further into post-trade to support straight-through processing. Exchanges provide access to FIX messages as a real-time data feed that is parsed by algorithmic traders to track market activity and, for example, identify the footprint of market participants and anticipate their next move. "
   ]
  },
  {
   "cell_type": "markdown",
   "metadata": {
    "pycharm": {
     "name": "#%% md\n"
    }
   },
   "source": [
    "### Nasdaq TotalView-ITCH Order Book data"
   ]
  },
  {
   "cell_type": "markdown",
   "metadata": {
    "pycharm": {
     "name": "#%% md\n"
    }
   },
   "source": [
    "While FIX has a dominant large market share, exchanges also offer native protocols. The Nasdaq offers a [TotalView ITCH direct data-feed protocol](http://www.nasdaqtrader.com/content/technicalsupport/specifications/dataproducts/NQTVITCHspecification.pdf) that allows subscribers to track \n",
    "individual orders for equity instruments from placement to execution or cancellation.\n",
    "\n",
    "As a result, it allows for the reconstruction of the order book that keeps track of the list of active-limit buy and sell orders for a specific security or financial instrument. The order book reveals the market depth throughout the day by listing the number of shares being bid or offered at each price point. It may also identify the market participant responsible for specific buy and sell orders unless it is placed anonymously. Market depth is a key indicator of liquidity and the potential price impact of sizable market orders. "
   ]
  },
  {
   "cell_type": "markdown",
   "metadata": {
    "pycharm": {
     "name": "#%% md\n"
    }
   },
   "source": [
    "The ITCH v5.0 specification declares over 20 message types related to system events, stock characteristics, the placement and modification of limit orders, and trade execution. It also contains information about the net order imbalance before the open and closing cross."
   ]
  },
  {
   "cell_type": "code",
   "execution_count": 2,
   "metadata": {},
   "outputs": [
    {
     "name": "stdout",
     "output_type": "stream",
     "text": [
      "Requirement already satisfied: pandas in e:\\informatica\\ia\\trading\\machine-learning-for-trading\\02_market_and_fundamental_data\\01_nasdaq_totalview-itch_order_book\\.venv\\lib\\site-packages (2.0.3)\n",
      "Requirement already satisfied: matplotlib in e:\\informatica\\ia\\trading\\machine-learning-for-trading\\02_market_and_fundamental_data\\01_nasdaq_totalview-itch_order_book\\.venv\\lib\\site-packages (3.7.4)\n",
      "Requirement already satisfied: seaborn in e:\\informatica\\ia\\trading\\machine-learning-for-trading\\02_market_and_fundamental_data\\01_nasdaq_totalview-itch_order_book\\.venv\\lib\\site-packages (0.13.0)\n",
      "Requirement already satisfied: openpyxl in e:\\informatica\\ia\\trading\\machine-learning-for-trading\\02_market_and_fundamental_data\\01_nasdaq_totalview-itch_order_book\\.venv\\lib\\site-packages (3.1.2)\n",
      "Requirement already satisfied: tables in e:\\informatica\\ia\\trading\\machine-learning-for-trading\\02_market_and_fundamental_data\\01_nasdaq_totalview-itch_order_book\\.venv\\lib\\site-packages (3.8.0)\n",
      "Requirement already satisfied: python-dateutil>=2.8.2 in e:\\informatica\\ia\\trading\\machine-learning-for-trading\\02_market_and_fundamental_data\\01_nasdaq_totalview-itch_order_book\\.venv\\lib\\site-packages (from pandas) (2.8.2)\n",
      "Requirement already satisfied: pytz>=2020.1 in e:\\informatica\\ia\\trading\\machine-learning-for-trading\\02_market_and_fundamental_data\\01_nasdaq_totalview-itch_order_book\\.venv\\lib\\site-packages (from pandas) (2023.3.post1)\n",
      "Requirement already satisfied: tzdata>=2022.1 in e:\\informatica\\ia\\trading\\machine-learning-for-trading\\02_market_and_fundamental_data\\01_nasdaq_totalview-itch_order_book\\.venv\\lib\\site-packages (from pandas) (2023.3)\n",
      "Requirement already satisfied: numpy>=1.20.3 in e:\\informatica\\ia\\trading\\machine-learning-for-trading\\02_market_and_fundamental_data\\01_nasdaq_totalview-itch_order_book\\.venv\\lib\\site-packages (from pandas) (1.24.4)\n",
      "Requirement already satisfied: contourpy>=1.0.1 in e:\\informatica\\ia\\trading\\machine-learning-for-trading\\02_market_and_fundamental_data\\01_nasdaq_totalview-itch_order_book\\.venv\\lib\\site-packages (from matplotlib) (1.1.1)\n",
      "Requirement already satisfied: cycler>=0.10 in e:\\informatica\\ia\\trading\\machine-learning-for-trading\\02_market_and_fundamental_data\\01_nasdaq_totalview-itch_order_book\\.venv\\lib\\site-packages (from matplotlib) (0.12.1)\n",
      "Requirement already satisfied: fonttools>=4.22.0 in e:\\informatica\\ia\\trading\\machine-learning-for-trading\\02_market_and_fundamental_data\\01_nasdaq_totalview-itch_order_book\\.venv\\lib\\site-packages (from matplotlib) (4.47.0)\n",
      "Requirement already satisfied: kiwisolver>=1.0.1 in e:\\informatica\\ia\\trading\\machine-learning-for-trading\\02_market_and_fundamental_data\\01_nasdaq_totalview-itch_order_book\\.venv\\lib\\site-packages (from matplotlib) (1.4.5)\n",
      "Requirement already satisfied: packaging>=20.0 in e:\\informatica\\ia\\trading\\machine-learning-for-trading\\02_market_and_fundamental_data\\01_nasdaq_totalview-itch_order_book\\.venv\\lib\\site-packages (from matplotlib) (23.2)\n",
      "Requirement already satisfied: pillow>=6.2.0 in e:\\informatica\\ia\\trading\\machine-learning-for-trading\\02_market_and_fundamental_data\\01_nasdaq_totalview-itch_order_book\\.venv\\lib\\site-packages (from matplotlib) (10.1.0)\n",
      "Requirement already satisfied: pyparsing>=2.3.1 in e:\\informatica\\ia\\trading\\machine-learning-for-trading\\02_market_and_fundamental_data\\01_nasdaq_totalview-itch_order_book\\.venv\\lib\\site-packages (from matplotlib) (3.1.1)\n",
      "Requirement already satisfied: importlib-resources>=3.2.0 in e:\\informatica\\ia\\trading\\machine-learning-for-trading\\02_market_and_fundamental_data\\01_nasdaq_totalview-itch_order_book\\.venv\\lib\\site-packages (from matplotlib) (6.1.1)\n",
      "Requirement already satisfied: et-xmlfile in e:\\informatica\\ia\\trading\\machine-learning-for-trading\\02_market_and_fundamental_data\\01_nasdaq_totalview-itch_order_book\\.venv\\lib\\site-packages (from openpyxl) (1.1.0)\n",
      "Requirement already satisfied: cython>=0.29.21 in e:\\informatica\\ia\\trading\\machine-learning-for-trading\\02_market_and_fundamental_data\\01_nasdaq_totalview-itch_order_book\\.venv\\lib\\site-packages (from tables) (3.0.6)\n",
      "Requirement already satisfied: numexpr>=2.6.2 in e:\\informatica\\ia\\trading\\machine-learning-for-trading\\02_market_and_fundamental_data\\01_nasdaq_totalview-itch_order_book\\.venv\\lib\\site-packages (from tables) (2.8.6)\n",
      "Requirement already satisfied: blosc2~=2.0.0 in e:\\informatica\\ia\\trading\\machine-learning-for-trading\\02_market_and_fundamental_data\\01_nasdaq_totalview-itch_order_book\\.venv\\lib\\site-packages (from tables) (2.0.0)\n",
      "Requirement already satisfied: py-cpuinfo in e:\\informatica\\ia\\trading\\machine-learning-for-trading\\02_market_and_fundamental_data\\01_nasdaq_totalview-itch_order_book\\.venv\\lib\\site-packages (from tables) (9.0.0)\n",
      "Requirement already satisfied: msgpack in e:\\informatica\\ia\\trading\\machine-learning-for-trading\\02_market_and_fundamental_data\\01_nasdaq_totalview-itch_order_book\\.venv\\lib\\site-packages (from blosc2~=2.0.0->tables) (1.0.7)\n",
      "Requirement already satisfied: zipp>=3.1.0 in e:\\informatica\\ia\\trading\\machine-learning-for-trading\\02_market_and_fundamental_data\\01_nasdaq_totalview-itch_order_book\\.venv\\lib\\site-packages (from importlib-resources>=3.2.0->matplotlib) (3.17.0)\n",
      "Requirement already satisfied: six>=1.5 in e:\\informatica\\ia\\trading\\machine-learning-for-trading\\02_market_and_fundamental_data\\01_nasdaq_totalview-itch_order_book\\.venv\\lib\\site-packages (from python-dateutil>=2.8.2->pandas) (1.16.0)\n",
      "Note: you may need to restart the kernel to use updated packages.\n"
     ]
    }
   ],
   "source": [
    "%pip install pandas matplotlib seaborn openpyxl tables"
   ]
  },
  {
   "cell_type": "code",
   "execution_count": 3,
   "metadata": {
    "ExecuteTime": {
     "end_time": "2021-09-10T17:28:27.979195Z",
     "start_time": "2021-09-10T17:28:27.977188Z"
    },
    "pycharm": {
     "name": "#%%\n"
    }
   },
   "outputs": [],
   "source": [
    "import warnings\n",
    "warnings.filterwarnings('ignore')"
   ]
  },
  {
   "cell_type": "code",
   "execution_count": 4,
   "metadata": {
    "ExecuteTime": {
     "end_time": "2021-09-10T17:28:28.756859Z",
     "start_time": "2021-09-10T17:28:28.144634Z"
    },
    "pycharm": {
     "name": "#%%\n"
    }
   },
   "outputs": [],
   "source": [
    "#Only in ipython/jupyter: %matplotlib inline \n",
    "# Display inline matplotlib plots with IPython\n",
    "from IPython import get_ipython\n",
    "get_ipython().run_line_magic('matplotlib', 'inline')\n",
    "import gzip\n",
    "import shutil\n",
    "from struct import unpack\n",
    "from collections import namedtuple, Counter, defaultdict\n",
    "from pathlib import Path\n",
    "from urllib.request import urlretrieve\n",
    "from urllib.parse import urljoin\n",
    "from time import time\n",
    "\n",
    "import pandas as pd\n",
    "\n",
    "import matplotlib.pyplot as plt\n",
    "from matplotlib.ticker import FuncFormatter\n",
    "import seaborn as sns"
   ]
  },
  {
   "cell_type": "code",
   "execution_count": 5,
   "metadata": {
    "ExecuteTime": {
     "end_time": "2021-09-10T17:28:28.760874Z",
     "start_time": "2021-09-10T17:28:28.758382Z"
    },
    "pycharm": {
     "name": "#%%\n"
    }
   },
   "outputs": [],
   "source": [
    "sns.set_style('whitegrid')"
   ]
  },
  {
   "cell_type": "code",
   "execution_count": 6,
   "metadata": {
    "ExecuteTime": {
     "end_time": "2021-09-10T17:28:28.774975Z",
     "start_time": "2021-09-10T17:28:28.762281Z"
    },
    "jupyter": {
     "outputs_hidden": false
    },
    "pycharm": {
     "name": "#%%\n"
    }
   },
   "outputs": [],
   "source": [
    "def format_time(t):\n",
    "    \"\"\"Return a formatted time string 'HH:MM:SS\n",
    "    based on a numeric time() value\"\"\"\n",
    "    m, s = divmod(t, 60)\n",
    "    h, m = divmod(m, 60)\n",
    "    return f'{h:0>2.0f}:{m:0>2.0f}:{s:0>5.2f}'"
   ]
  },
  {
   "cell_type": "markdown",
   "metadata": {
    "pycharm": {
     "name": "#%% md\n"
    }
   },
   "source": [
    "## Get NASDAQ ITCH Data from FTP Server"
   ]
  },
  {
   "cell_type": "markdown",
   "metadata": {
    "pycharm": {
     "name": "#%% md\n"
    }
   },
   "source": [
    "The Nasdaq offers [samples](https://emi.nasdaq.com/ITCH/Nasdaq%20ITCH/) of daily binary files for several months. \n",
    "\n",
    "We are now going to illustrates how to parse a sample file of ITCH messages and reconstruct both the executed trades and the order book for any given tick."
   ]
  },
  {
   "cell_type": "markdown",
   "metadata": {
    "pycharm": {
     "name": "#%% md\n"
    }
   },
   "source": [
    "The data is fairly large and running the entire example can take a lot of time and require substantial memory (16GB+). Also, the sample file used in this example may no longer be available because NASDAQ occasionaly updates the sample files."
   ]
  },
  {
   "cell_type": "markdown",
   "metadata": {
    "pycharm": {
     "name": "#%% md\n"
    }
   },
   "source": [
    "The following table shows the frequency of the most common message types for the sample file date March 29, 2018:"
   ]
  },
  {
   "cell_type": "markdown",
   "metadata": {
    "pycharm": {
     "name": "#%% md\n"
    }
   },
   "source": [
    "| Name                    | Offset  | Length  | Value      | Notes                                                                                |\n",
    "|-------------------------|---------|---------|------------|--------------------------------------------------------------------------------------|\n",
    "| Message Type            | 0       | 1       | S          | System Event Message                                                                 |\n",
    "| Stock Locate            | 1       | 2       | Integer    | Always 0                                                                             |\n",
    "| Tracking Number         | 3       | 2       | Integer    | Nasdaq internal tracking number                                                      |\n",
    "| Timestamp               | 5       | 6       | Integer    | Nanoseconds since midnight                                                           |\n",
    "| Order Reference Number  | 11      | 8       | Integer    | The unique reference number assigned to the new order at the time of receipt.        |\n",
    "| Buy/Sell Indicator      | 19      | 1       | Alpha      | The type of order being added. B = Buy Order. S = Sell Order.                        |\n",
    "| Shares                  | 20      | 4       | Integer    | The total number of shares associated with the order being added to the book.        |\n",
    "| Stock                   | 24      | 8       | Alpha      | Stock symbol, right padded with spaces                                               |\n",
    "| Price                   | 32      | 4       | Price (4)  | The display price of the new order. Refer to Data Types for field processing notes.  |\n",
    "| Attribution             | 36      | 4       | Alpha      | Nasdaq Market participant identifier associated with the entered order               |"
   ]
  },
  {
   "cell_type": "markdown",
   "metadata": {
    "pycharm": {
     "name": "#%% md\n"
    }
   },
   "source": [
    "### Set Data paths"
   ]
  },
  {
   "cell_type": "markdown",
   "metadata": {
    "pycharm": {
     "name": "#%% md\n"
    }
   },
   "source": [
    "We will store the download in a `data` subdirectory and convert the result to `hdf` format (discussed in the last section of chapter 2)."
   ]
  },
  {
   "cell_type": "code",
   "execution_count": 7,
   "metadata": {
    "ExecuteTime": {
     "end_time": "2021-09-10T17:28:31.314556Z",
     "start_time": "2021-09-10T17:28:31.312366Z"
    },
    "pycharm": {
     "name": "#%%\n"
    }
   },
   "outputs": [],
   "source": [
    "temp_path = Path('D:/temp/') \n",
    "itch_store = str(temp_path / 'itch.h5')\n",
    "order_book_store = temp_path / 'order_book.h5'"
   ]
  },
  {
   "cell_type": "markdown",
   "metadata": {
    "pycharm": {
     "name": "#%% md\n"
    }
   },
   "source": [
    "You can find several sample files on the [NASDAQ server](https://emi.nasdaq.com/ITCH/Nasdaq%20ITCH/).\n",
    "\n",
    "The HTTPS address, filename and corresponding date used in this example:"
   ]
  },
  {
   "cell_type": "code",
   "execution_count": 8,
   "metadata": {
    "ExecuteTime": {
     "end_time": "2022-04-29T13:17:01.828753Z",
     "start_time": "2022-04-29T13:17:01.822306Z"
    },
    "pycharm": {
     "name": "#%%\n"
    }
   },
   "outputs": [],
   "source": [
    "HTTPS_URL = 'https://emi.nasdaq.com/ITCH/Nasdaq%20ITCH/'\n",
    "SOURCE_FILE = '12302019.NASDAQ_ITCH50.gz'"
   ]
  },
  {
   "cell_type": "markdown",
   "metadata": {
    "pycharm": {
     "name": "#%% md\n"
    }
   },
   "source": [
    "#### URL updates\n",
    "\n",
    "NASDAQ updates the files occasionally so that the SOURCE_FILE changes. If the above gives an error, navigate to the HTTPS_URL using your browser, and check for new files. As of September 2021, the listed files include:\n",
    "\n",
    "- 01302020.NASDAQ_ITCH50.gz\n",
    "- 12302019.NASDAQ_ITCH50.gz\n",
    "- 10302019.NASDAQ_ITCH50.gz\n",
    "- 08302019.NASDAQ_ITCH50.gz\n",
    "- 07302019.NASDAQ_ITCH50.gz\n",
    "- 03272019.NASDAQ_ITCH50.gz\n",
    "- 01302019.NASDAQ_ITCH50.gz\n",
    "- 12282018.NASDAQ_ITCH50.gz\n"
   ]
  },
  {
   "cell_type": "markdown",
   "metadata": {
    "pycharm": {
     "name": "#%% md\n"
    }
   },
   "source": [
    "### Download & unzip"
   ]
  },
  {
   "cell_type": "code",
   "execution_count": 9,
   "metadata": {
    "ExecuteTime": {
     "end_time": "2021-09-10T17:28:36.375441Z",
     "start_time": "2021-09-10T17:28:36.368838Z"
    },
    "pycharm": {
     "name": "#%%\n"
    }
   },
   "outputs": [],
   "source": [
    "def may_be_download(url):\n",
    "    \"\"\"Download & unzip ITCH data if not yet available\"\"\"\n",
    "    if not temp_path.exists():\n",
    "        print('Creating directory')\n",
    "        temp_path.mkdir()\n",
    "    else: \n",
    "        print('Directory exists')\n",
    "\n",
    "    filename = temp_path / url.split('/')[-1]        \n",
    "    if not filename.exists():\n",
    "        print('Downloading...', url)\n",
    "        urlretrieve(url, filename)\n",
    "    else: \n",
    "        print('File exists')        \n",
    "\n",
    "    unzipped = temp_path / (filename.stem + '.bin')\n",
    "    if not unzipped.exists():\n",
    "        print('Unzipping to', unzipped)\n",
    "        with gzip.open(str(filename), 'rb') as f_in:\n",
    "            with open(unzipped, 'wb') as f_out:\n",
    "                shutil.copyfileobj(f_in, f_out,length=16*1024*1024)\n",
    "    else: \n",
    "        print('File already unpacked')\n",
    "    return unzipped"
   ]
  },
  {
   "cell_type": "markdown",
   "metadata": {
    "pycharm": {
     "name": "#%% md\n"
    }
   },
   "source": [
    "This will download 5.1GB data that unzips to 12.9GB (this may vary depending on the file, see 'url updates' below)."
   ]
  },
  {
   "cell_type": "code",
   "execution_count": 10,
   "metadata": {
    "ExecuteTime": {
     "end_time": "2021-09-10T18:09:29.821076Z",
     "start_time": "2021-09-10T17:28:37.154538Z"
    },
    "pycharm": {
     "name": "#%%\n"
    }
   },
   "outputs": [
    {
     "name": "stdout",
     "output_type": "stream",
     "text": [
      "Directory exists\n",
      "File exists\n",
      "File already unpacked\n"
     ]
    }
   ],
   "source": [
    "file_name = may_be_download(urljoin(HTTPS_URL, SOURCE_FILE))\n",
    "date = file_name.name.split('.')[0]"
   ]
  },
  {
   "cell_type": "markdown",
   "metadata": {
    "pycharm": {
     "name": "#%% md\n"
    }
   },
   "source": [
    "## ITCH Format Settings"
   ]
  },
  {
   "cell_type": "markdown",
   "metadata": {
    "pycharm": {
     "name": "#%% md\n"
    }
   },
   "source": [
    "### The `struct` module for binary data"
   ]
  },
  {
   "cell_type": "markdown",
   "metadata": {
    "pycharm": {
     "name": "#%% md\n"
    }
   },
   "source": [
    "The ITCH tick data comes in binary format. Python provides the `struct` module (see [docs](https://docs.python.org/3/library/struct.html)) to parse binary data using format strings that identify the message elements by indicating length and type of the various components of the byte string as laid out in the specification."
   ]
  },
  {
   "cell_type": "markdown",
   "metadata": {
    "pycharm": {
     "name": "#%% md\n"
    }
   },
   "source": [
    "From the docs:\n",
    "\n",
    "> This module performs conversions between Python values and C structs represented as Python bytes objects. This can be used in handling binary data stored in files or from network connections, among other sources. It uses Format Strings as compact descriptions of the layout of the C structs and the intended conversion to/from Python values."
   ]
  },
  {
   "cell_type": "markdown",
   "metadata": {
    "pycharm": {
     "name": "#%% md\n"
    }
   },
   "source": [
    "Let's walk through the critical steps to parse the trading messages and reconstruct the order book:"
   ]
  },
  {
   "cell_type": "markdown",
   "metadata": {
    "pycharm": {
     "name": "#%% md\n"
    }
   },
   "source": [
    "### Defining format strings"
   ]
  },
  {
   "cell_type": "markdown",
   "metadata": {
    "pycharm": {
     "name": "#%% md\n"
    }
   },
   "source": [
    "The parser uses format strings according to the following formats dictionaries:"
   ]
  },
  {
   "cell_type": "code",
   "execution_count": 11,
   "metadata": {
    "ExecuteTime": {
     "end_time": "2021-09-10T18:09:29.825440Z",
     "start_time": "2021-09-10T18:09:29.822355Z"
    },
    "pycharm": {
     "name": "#%%\n"
    }
   },
   "outputs": [],
   "source": [
    "event_codes = {'O': 'Start of Messages',\n",
    "               'S': 'Start of System Hours',\n",
    "               'Q': 'Start of Market Hours',\n",
    "               'M': 'End of Market Hours',\n",
    "               'E': 'End of System Hours',\n",
    "               'C': 'End of Messages'}"
   ]
  },
  {
   "cell_type": "code",
   "execution_count": 12,
   "metadata": {
    "ExecuteTime": {
     "end_time": "2021-09-10T18:09:29.848272Z",
     "start_time": "2021-09-10T18:09:29.826928Z"
    },
    "pycharm": {
     "name": "#%%\n"
    }
   },
   "outputs": [],
   "source": [
    "encoding = {'primary_market_maker': {'Y': 1, 'N': 0},\n",
    "            'printable'           : {'Y': 1, 'N': 0},\n",
    "            'buy_sell_indicator'  : {'B': 1, 'S': -1},\n",
    "            'cross_type'          : {'O': 0, 'C': 1, 'H': 2},\n",
    "            'imbalance_direction' : {'B': 0, 'S': 1, 'N': 0, 'O': -1}}"
   ]
  },
  {
   "cell_type": "code",
   "execution_count": 13,
   "metadata": {
    "ExecuteTime": {
     "end_time": "2021-09-10T18:09:29.857356Z",
     "start_time": "2021-09-10T18:09:29.850080Z"
    },
    "pycharm": {
     "name": "#%%\n"
    }
   },
   "outputs": [],
   "source": [
    "formats = {\n",
    "    ('integer', 2): 'H',  # int of length 2 => format string 'H'\n",
    "    ('integer', 4): 'I',\n",
    "    ('integer', 6): '6s',  # int of length 6 => parse as string, convert later\n",
    "    ('integer', 8): 'Q',\n",
    "    ('alpha',   1): 's',\n",
    "    ('alpha',   2): '2s',\n",
    "    ('alpha',   4): '4s',\n",
    "    ('alpha',   8): '8s',\n",
    "    ('price_4', 4): 'I',\n",
    "    ('price_8', 8): 'Q',\n",
    "}"
   ]
  },
  {
   "cell_type": "markdown",
   "metadata": {
    "pycharm": {
     "name": "#%% md\n"
    }
   },
   "source": [
    "### Create message specs for binary data parser"
   ]
  },
  {
   "cell_type": "markdown",
   "metadata": {
    "pycharm": {
     "name": "#%% md\n"
    }
   },
   "source": [
    "The ITCH parser relies on message specifications that we create in the following steps."
   ]
  },
  {
   "cell_type": "markdown",
   "metadata": {
    "pycharm": {
     "name": "#%% md\n"
    }
   },
   "source": [
    "#### Load Message Types"
   ]
  },
  {
   "cell_type": "markdown",
   "metadata": {
    "pycharm": {
     "name": "#%% md\n"
    }
   },
   "source": [
    "The file `message_types.xlxs` contains the message type specs as laid out in the [documentation](https://www.nasdaqtrader.com/content/technicalsupport/specifications/dataproducts/NQTVITCHSpecification.pdf)"
   ]
  },
  {
   "cell_type": "code",
   "execution_count": 14,
   "metadata": {
    "ExecuteTime": {
     "end_time": "2021-09-10T19:16:44.888647Z",
     "start_time": "2021-09-10T19:16:44.756696Z"
    },
    "pycharm": {
     "name": "#%%\n"
    }
   },
   "outputs": [],
   "source": [
    "message_data = (pd.read_excel('message_types.xlsx',\n",
    "                              sheet_name='messages')\n",
    "                .sort_values('id')\n",
    "                .drop('id', axis=1))"
   ]
  },
  {
   "cell_type": "code",
   "execution_count": 15,
   "metadata": {
    "ExecuteTime": {
     "end_time": "2021-09-10T19:16:45.694545Z",
     "start_time": "2021-09-10T19:16:45.685332Z"
    },
    "pycharm": {
     "name": "#%%\n"
    }
   },
   "outputs": [
    {
     "data": {
      "text/html": [
       "<div>\n",
       "<style scoped>\n",
       "    .dataframe tbody tr th:only-of-type {\n",
       "        vertical-align: middle;\n",
       "    }\n",
       "\n",
       "    .dataframe tbody tr th {\n",
       "        vertical-align: top;\n",
       "    }\n",
       "\n",
       "    .dataframe thead th {\n",
       "        text-align: right;\n",
       "    }\n",
       "</style>\n",
       "<table border=\"1\" class=\"dataframe\">\n",
       "  <thead>\n",
       "    <tr style=\"text-align: right;\">\n",
       "      <th></th>\n",
       "      <th>Name</th>\n",
       "      <th>Offset</th>\n",
       "      <th>Length</th>\n",
       "      <th>Value</th>\n",
       "      <th>Notes</th>\n",
       "    </tr>\n",
       "  </thead>\n",
       "  <tbody>\n",
       "    <tr>\n",
       "      <th>0</th>\n",
       "      <td>Message Type</td>\n",
       "      <td>0</td>\n",
       "      <td>1</td>\n",
       "      <td>S</td>\n",
       "      <td>System Event Message</td>\n",
       "    </tr>\n",
       "    <tr>\n",
       "      <th>1</th>\n",
       "      <td>Stock Locate</td>\n",
       "      <td>1</td>\n",
       "      <td>2</td>\n",
       "      <td>Integer</td>\n",
       "      <td>Always 0</td>\n",
       "    </tr>\n",
       "    <tr>\n",
       "      <th>2</th>\n",
       "      <td>Tracking Number</td>\n",
       "      <td>3</td>\n",
       "      <td>2</td>\n",
       "      <td>Integer</td>\n",
       "      <td>Nasdaq internal tracking number</td>\n",
       "    </tr>\n",
       "    <tr>\n",
       "      <th>3</th>\n",
       "      <td>Timestamp</td>\n",
       "      <td>5</td>\n",
       "      <td>6</td>\n",
       "      <td>Integer</td>\n",
       "      <td>Nanoseconds since midnight</td>\n",
       "    </tr>\n",
       "    <tr>\n",
       "      <th>4</th>\n",
       "      <td>Event Code</td>\n",
       "      <td>11</td>\n",
       "      <td>1</td>\n",
       "      <td>Alpha</td>\n",
       "      <td>See System Event Codes below</td>\n",
       "    </tr>\n",
       "  </tbody>\n",
       "</table>\n",
       "</div>"
      ],
      "text/plain": [
       "              Name   Offset   Length     Value   \\\n",
       "0     Message Type         0        1         S   \n",
       "1     Stock Locate         1        2  Integer    \n",
       "2  Tracking Number         3        2  Integer    \n",
       "3        Timestamp         5        6  Integer    \n",
       "4       Event Code        11        1    Alpha    \n",
       "\n",
       "                             Notes   \n",
       "0             System Event Message   \n",
       "1                         Always 0   \n",
       "2  Nasdaq internal tracking number   \n",
       "3       Nanoseconds since midnight   \n",
       "4     See System Event Codes below   "
      ]
     },
     "execution_count": 15,
     "metadata": {},
     "output_type": "execute_result"
    }
   ],
   "source": [
    "message_data.head()"
   ]
  },
  {
   "cell_type": "markdown",
   "metadata": {
    "pycharm": {
     "name": "#%% md\n"
    }
   },
   "source": [
    "#### Basic Cleaning"
   ]
  },
  {
   "cell_type": "markdown",
   "metadata": {
    "pycharm": {
     "name": "#%% md\n"
    }
   },
   "source": [
    "The function `clean_message_types()` just runs a few basic string cleaning steps."
   ]
  },
  {
   "cell_type": "code",
   "execution_count": 16,
   "metadata": {
    "ExecuteTime": {
     "end_time": "2021-09-10T19:16:46.788325Z",
     "start_time": "2021-09-10T19:16:46.785150Z"
    },
    "pycharm": {
     "name": "#%%\n"
    }
   },
   "outputs": [],
   "source": [
    "def clean_message_types(df):\n",
    "    df.columns = [c.lower().strip() for c in df.columns]\n",
    "    df.value = df.value.str.strip()\n",
    "    df.name = (df.name\n",
    "               .str.strip() # remove whitespace\n",
    "               .str.lower()\n",
    "               .str.replace(' ', '_')\n",
    "               .str.replace('-', '_')\n",
    "               .str.replace('/', '_'))\n",
    "    df.notes = df.notes.str.strip()\n",
    "    df['message_type'] = df.loc[df.name == 'message_type', 'value']\n",
    "    return df"
   ]
  },
  {
   "cell_type": "code",
   "execution_count": 17,
   "metadata": {
    "ExecuteTime": {
     "end_time": "2021-09-10T19:16:46.973596Z",
     "start_time": "2021-09-10T19:16:46.961616Z"
    },
    "pycharm": {
     "name": "#%%\n"
    }
   },
   "outputs": [],
   "source": [
    "message_types = clean_message_types(message_data)"
   ]
  },
  {
   "cell_type": "markdown",
   "metadata": {
    "pycharm": {
     "name": "#%% md\n"
    }
   },
   "source": [
    "#### Get Message Labels"
   ]
  },
  {
   "cell_type": "markdown",
   "metadata": {
    "pycharm": {
     "name": "#%% md\n"
    }
   },
   "source": [
    "We extract message type codes and names so we can later make the results more readable."
   ]
  },
  {
   "cell_type": "code",
   "execution_count": 18,
   "metadata": {
    "ExecuteTime": {
     "end_time": "2021-09-10T19:16:49.259988Z",
     "start_time": "2021-09-10T19:16:49.245903Z"
    },
    "pycharm": {
     "name": "#%%\n"
    }
   },
   "outputs": [
    {
     "data": {
      "text/html": [
       "<div>\n",
       "<style scoped>\n",
       "    .dataframe tbody tr th:only-of-type {\n",
       "        vertical-align: middle;\n",
       "    }\n",
       "\n",
       "    .dataframe tbody tr th {\n",
       "        vertical-align: top;\n",
       "    }\n",
       "\n",
       "    .dataframe thead th {\n",
       "        text-align: right;\n",
       "    }\n",
       "</style>\n",
       "<table border=\"1\" class=\"dataframe\">\n",
       "  <thead>\n",
       "    <tr style=\"text-align: right;\">\n",
       "      <th></th>\n",
       "      <th>message_type</th>\n",
       "      <th>name</th>\n",
       "    </tr>\n",
       "  </thead>\n",
       "  <tbody>\n",
       "    <tr>\n",
       "      <th>0</th>\n",
       "      <td>S</td>\n",
       "      <td>system_event</td>\n",
       "    </tr>\n",
       "    <tr>\n",
       "      <th>5</th>\n",
       "      <td>R</td>\n",
       "      <td>stock_directory</td>\n",
       "    </tr>\n",
       "    <tr>\n",
       "      <th>23</th>\n",
       "      <td>H</td>\n",
       "      <td>stock_trading_action</td>\n",
       "    </tr>\n",
       "    <tr>\n",
       "      <th>31</th>\n",
       "      <td>Y</td>\n",
       "      <td>reg_sho_short_sale_price_test_restricted_indic...</td>\n",
       "    </tr>\n",
       "    <tr>\n",
       "      <th>37</th>\n",
       "      <td>L</td>\n",
       "      <td>market_participant_position</td>\n",
       "    </tr>\n",
       "  </tbody>\n",
       "</table>\n",
       "</div>"
      ],
      "text/plain": [
       "   message_type                                               name\n",
       "0             S                                       system_event\n",
       "5             R                                    stock_directory\n",
       "23            H                               stock_trading_action\n",
       "31            Y  reg_sho_short_sale_price_test_restricted_indic...\n",
       "37            L                        market_participant_position"
      ]
     },
     "execution_count": 18,
     "metadata": {},
     "output_type": "execute_result"
    }
   ],
   "source": [
    "message_labels = (message_types.loc[:, ['message_type', 'notes']]\n",
    "                  .dropna()\n",
    "                  .rename(columns={'notes': 'name'}))\n",
    "message_labels.name = (message_labels.name\n",
    "                       .str.lower()\n",
    "                       .str.replace('message', '')\n",
    "                       .str.replace('.', '')\n",
    "                       .str.strip().str.replace(' ', '_'))\n",
    "message_labels.head()"
   ]
  },
  {
   "cell_type": "markdown",
   "metadata": {
    "pycharm": {
     "name": "#%% md\n"
    }
   },
   "source": [
    "### Finalize specification details"
   ]
  },
  {
   "cell_type": "markdown",
   "metadata": {
    "pycharm": {
     "name": "#%% md\n"
    }
   },
   "source": [
    "Each message consists of several fields that are defined by offset, length and type of value. The `struct` module will use this format information to parse the binary source data."
   ]
  },
  {
   "cell_type": "code",
   "execution_count": 19,
   "metadata": {
    "ExecuteTime": {
     "end_time": "2021-09-10T19:16:49.695135Z",
     "start_time": "2021-09-10T19:16:49.672670Z"
    },
    "pycharm": {
     "name": "#%%\n"
    }
   },
   "outputs": [
    {
     "name": "stdout",
     "output_type": "stream",
     "text": [
      "<class 'pandas.core.frame.DataFrame'>\n",
      "Index: 152 entries, 1 to 172\n",
      "Data columns (total 6 columns):\n",
      " #   Column        Non-Null Count  Dtype \n",
      "---  ------        --------------  ----- \n",
      " 0   name          152 non-null    object\n",
      " 1   offset        152 non-null    int64 \n",
      " 2   length        152 non-null    int64 \n",
      " 3   value         152 non-null    object\n",
      " 4   notes         152 non-null    object\n",
      " 5   message_type  152 non-null    object\n",
      "dtypes: int64(2), object(4)\n",
      "memory usage: 8.3+ KB\n"
     ]
    }
   ],
   "source": [
    "message_types.message_type = message_types.message_type.ffill()\n",
    "message_types = message_types[message_types.name != 'message_type']\n",
    "message_types.value = (message_types.value\n",
    "                       .str.lower()\n",
    "                       .str.replace(' ', '_')\n",
    "                       .str.replace('(', '')\n",
    "                       .str.replace(')', ''))\n",
    "message_types.info()"
   ]
  },
  {
   "cell_type": "code",
   "execution_count": 20,
   "metadata": {
    "ExecuteTime": {
     "end_time": "2021-09-10T19:16:52.046586Z",
     "start_time": "2021-09-10T19:16:52.040316Z"
    },
    "pycharm": {
     "name": "#%%\n"
    }
   },
   "outputs": [
    {
     "data": {
      "text/html": [
       "<div>\n",
       "<style scoped>\n",
       "    .dataframe tbody tr th:only-of-type {\n",
       "        vertical-align: middle;\n",
       "    }\n",
       "\n",
       "    .dataframe tbody tr th {\n",
       "        vertical-align: top;\n",
       "    }\n",
       "\n",
       "    .dataframe thead th {\n",
       "        text-align: right;\n",
       "    }\n",
       "</style>\n",
       "<table border=\"1\" class=\"dataframe\">\n",
       "  <thead>\n",
       "    <tr style=\"text-align: right;\">\n",
       "      <th></th>\n",
       "      <th>name</th>\n",
       "      <th>offset</th>\n",
       "      <th>length</th>\n",
       "      <th>value</th>\n",
       "      <th>notes</th>\n",
       "      <th>message_type</th>\n",
       "    </tr>\n",
       "  </thead>\n",
       "  <tbody>\n",
       "    <tr>\n",
       "      <th>1</th>\n",
       "      <td>stock_locate</td>\n",
       "      <td>1</td>\n",
       "      <td>2</td>\n",
       "      <td>integer</td>\n",
       "      <td>Always 0</td>\n",
       "      <td>S</td>\n",
       "    </tr>\n",
       "    <tr>\n",
       "      <th>2</th>\n",
       "      <td>tracking_number</td>\n",
       "      <td>3</td>\n",
       "      <td>2</td>\n",
       "      <td>integer</td>\n",
       "      <td>Nasdaq internal tracking number</td>\n",
       "      <td>S</td>\n",
       "    </tr>\n",
       "    <tr>\n",
       "      <th>3</th>\n",
       "      <td>timestamp</td>\n",
       "      <td>5</td>\n",
       "      <td>6</td>\n",
       "      <td>integer</td>\n",
       "      <td>Nanoseconds since midnight</td>\n",
       "      <td>S</td>\n",
       "    </tr>\n",
       "    <tr>\n",
       "      <th>4</th>\n",
       "      <td>event_code</td>\n",
       "      <td>11</td>\n",
       "      <td>1</td>\n",
       "      <td>alpha</td>\n",
       "      <td>See System Event Codes below</td>\n",
       "      <td>S</td>\n",
       "    </tr>\n",
       "    <tr>\n",
       "      <th>6</th>\n",
       "      <td>stock_locate</td>\n",
       "      <td>1</td>\n",
       "      <td>2</td>\n",
       "      <td>integer</td>\n",
       "      <td>Locate Code uniquely assigned to the security ...</td>\n",
       "      <td>R</td>\n",
       "    </tr>\n",
       "  </tbody>\n",
       "</table>\n",
       "</div>"
      ],
      "text/plain": [
       "              name  offset  length    value  \\\n",
       "1     stock_locate       1       2  integer   \n",
       "2  tracking_number       3       2  integer   \n",
       "3        timestamp       5       6  integer   \n",
       "4       event_code      11       1    alpha   \n",
       "6     stock_locate       1       2  integer   \n",
       "\n",
       "                                               notes message_type  \n",
       "1                                           Always 0            S  \n",
       "2                    Nasdaq internal tracking number            S  \n",
       "3                         Nanoseconds since midnight            S  \n",
       "4                       See System Event Codes below            S  \n",
       "6  Locate Code uniquely assigned to the security ...            R  "
      ]
     },
     "execution_count": 20,
     "metadata": {},
     "output_type": "execute_result"
    }
   ],
   "source": [
    "message_types.head()"
   ]
  },
  {
   "cell_type": "markdown",
   "metadata": {
    "pycharm": {
     "name": "#%% md\n"
    }
   },
   "source": [
    "Optionally, persist/reload from file:"
   ]
  },
  {
   "cell_type": "code",
   "execution_count": 21,
   "metadata": {
    "ExecuteTime": {
     "end_time": "2021-09-10T19:16:52.319607Z",
     "start_time": "2021-09-10T19:16:52.314423Z"
    },
    "pycharm": {
     "name": "#%%\n"
    }
   },
   "outputs": [],
   "source": [
    "message_types.to_csv('message_types.csv', index=False)"
   ]
  },
  {
   "cell_type": "code",
   "execution_count": 22,
   "metadata": {
    "ExecuteTime": {
     "end_time": "2021-09-10T19:16:52.446405Z",
     "start_time": "2021-09-10T19:16:52.438586Z"
    },
    "pycharm": {
     "name": "#%%\n"
    }
   },
   "outputs": [],
   "source": [
    "message_types = pd.read_csv('message_types.csv')"
   ]
  },
  {
   "cell_type": "markdown",
   "metadata": {
    "pycharm": {
     "name": "#%% md\n"
    }
   },
   "source": [
    "The parser translates the message specs into format strings and `namedtuples` that capture the message content. First, we create `(type, length)` formatting tuples from ITCH specs:"
   ]
  },
  {
   "cell_type": "code",
   "execution_count": 23,
   "metadata": {
    "ExecuteTime": {
     "end_time": "2021-09-10T19:16:52.910438Z",
     "start_time": "2021-09-10T19:16:52.890773Z"
    },
    "pycharm": {
     "name": "#%%\n"
    }
   },
   "outputs": [],
   "source": [
    "message_types.loc[:, 'formats'] = (message_types[['value', 'length']]\n",
    "                            .apply(tuple, axis=1).map(formats))"
   ]
  },
  {
   "cell_type": "markdown",
   "metadata": {
    "pycharm": {
     "name": "#%% md\n"
    }
   },
   "source": [
    "Then, we extract formatting details for alphanumerical fields"
   ]
  },
  {
   "cell_type": "code",
   "execution_count": 24,
   "metadata": {
    "ExecuteTime": {
     "end_time": "2021-09-10T19:16:53.170945Z",
     "start_time": "2021-09-10T19:16:53.153242Z"
    },
    "pycharm": {
     "name": "#%%\n"
    }
   },
   "outputs": [],
   "source": [
    "alpha_fields = message_types[message_types.value == 'alpha'].set_index('name')\n",
    "alpha_msgs = alpha_fields.groupby('message_type')\n",
    "alpha_formats = {k: v.to_dict() for k, v in alpha_msgs.formats}\n",
    "alpha_length = {k: v.add(5).to_dict() for k, v in alpha_msgs.length}"
   ]
  },
  {
   "cell_type": "markdown",
   "metadata": {
    "pycharm": {
     "name": "#%% md\n"
    }
   },
   "source": [
    "We generate message classes as named tuples and format strings"
   ]
  },
  {
   "cell_type": "code",
   "execution_count": 25,
   "metadata": {
    "ExecuteTime": {
     "end_time": "2021-09-10T19:16:53.440646Z",
     "start_time": "2021-09-10T19:16:53.423662Z"
    },
    "pycharm": {
     "name": "#%%\n"
    }
   },
   "outputs": [],
   "source": [
    "message_fields, fstring = {}, {}\n",
    "for t, message in message_types.groupby('message_type'):\n",
    "    message_fields[t] = namedtuple(typename=t, field_names=message.name.tolist())\n",
    "    fstring[t] = '>' + ''.join(message.formats.tolist())"
   ]
  },
  {
   "cell_type": "code",
   "execution_count": 26,
   "metadata": {
    "ExecuteTime": {
     "end_time": "2021-09-10T19:16:53.613768Z",
     "start_time": "2021-09-10T19:16:53.598601Z"
    },
    "pycharm": {
     "name": "#%%\n"
    }
   },
   "outputs": [
    {
     "name": "stdout",
     "output_type": "stream",
     "text": [
      "<class 'pandas.core.frame.DataFrame'>\n",
      "Index: 45 entries, event_code to price_variation_indicator\n",
      "Data columns (total 6 columns):\n",
      " #   Column        Non-Null Count  Dtype \n",
      "---  ------        --------------  ----- \n",
      " 0   offset        45 non-null     int64 \n",
      " 1   length        45 non-null     int64 \n",
      " 2   value         45 non-null     object\n",
      " 3   notes         45 non-null     object\n",
      " 4   message_type  45 non-null     object\n",
      " 5   formats       45 non-null     object\n",
      "dtypes: int64(2), object(4)\n",
      "memory usage: 2.5+ KB\n"
     ]
    }
   ],
   "source": [
    "alpha_fields.info()"
   ]
  },
  {
   "cell_type": "code",
   "execution_count": 27,
   "metadata": {
    "ExecuteTime": {
     "end_time": "2021-09-10T19:16:53.781876Z",
     "start_time": "2021-09-10T19:16:53.764010Z"
    },
    "pycharm": {
     "name": "#%%\n"
    }
   },
   "outputs": [
    {
     "data": {
      "text/html": [
       "<div>\n",
       "<style scoped>\n",
       "    .dataframe tbody tr th:only-of-type {\n",
       "        vertical-align: middle;\n",
       "    }\n",
       "\n",
       "    .dataframe tbody tr th {\n",
       "        vertical-align: top;\n",
       "    }\n",
       "\n",
       "    .dataframe thead th {\n",
       "        text-align: right;\n",
       "    }\n",
       "</style>\n",
       "<table border=\"1\" class=\"dataframe\">\n",
       "  <thead>\n",
       "    <tr style=\"text-align: right;\">\n",
       "      <th></th>\n",
       "      <th>offset</th>\n",
       "      <th>length</th>\n",
       "      <th>value</th>\n",
       "      <th>notes</th>\n",
       "      <th>message_type</th>\n",
       "      <th>formats</th>\n",
       "    </tr>\n",
       "    <tr>\n",
       "      <th>name</th>\n",
       "      <th></th>\n",
       "      <th></th>\n",
       "      <th></th>\n",
       "      <th></th>\n",
       "      <th></th>\n",
       "      <th></th>\n",
       "    </tr>\n",
       "  </thead>\n",
       "  <tbody>\n",
       "    <tr>\n",
       "      <th>event_code</th>\n",
       "      <td>11</td>\n",
       "      <td>1</td>\n",
       "      <td>alpha</td>\n",
       "      <td>See System Event Codes below</td>\n",
       "      <td>S</td>\n",
       "      <td>s</td>\n",
       "    </tr>\n",
       "    <tr>\n",
       "      <th>stock</th>\n",
       "      <td>11</td>\n",
       "      <td>8</td>\n",
       "      <td>alpha</td>\n",
       "      <td>Denotes the security symbol for the issue in t...</td>\n",
       "      <td>R</td>\n",
       "      <td>8s</td>\n",
       "    </tr>\n",
       "    <tr>\n",
       "      <th>market_category</th>\n",
       "      <td>19</td>\n",
       "      <td>1</td>\n",
       "      <td>alpha</td>\n",
       "      <td>Indicates Listing market or listing market tie...</td>\n",
       "      <td>R</td>\n",
       "      <td>s</td>\n",
       "    </tr>\n",
       "    <tr>\n",
       "      <th>financial_status_indicator</th>\n",
       "      <td>20</td>\n",
       "      <td>1</td>\n",
       "      <td>alpha</td>\n",
       "      <td>For Nasdaq listed issues, this field indicates...</td>\n",
       "      <td>R</td>\n",
       "      <td>s</td>\n",
       "    </tr>\n",
       "    <tr>\n",
       "      <th>round_lots_only</th>\n",
       "      <td>25</td>\n",
       "      <td>1</td>\n",
       "      <td>alpha</td>\n",
       "      <td>Indicates if Nasdaq system limits order entry ...</td>\n",
       "      <td>R</td>\n",
       "      <td>s</td>\n",
       "    </tr>\n",
       "    <tr>\n",
       "      <th>issue_classification</th>\n",
       "      <td>26</td>\n",
       "      <td>1</td>\n",
       "      <td>alpha</td>\n",
       "      <td>Identifies the security class for the issue as...</td>\n",
       "      <td>R</td>\n",
       "      <td>s</td>\n",
       "    </tr>\n",
       "    <tr>\n",
       "      <th>issue_sub_type</th>\n",
       "      <td>27</td>\n",
       "      <td>2</td>\n",
       "      <td>alpha</td>\n",
       "      <td>Identifies the security sub-type for the issue...</td>\n",
       "      <td>R</td>\n",
       "      <td>2s</td>\n",
       "    </tr>\n",
       "    <tr>\n",
       "      <th>authenticity</th>\n",
       "      <td>29</td>\n",
       "      <td>1</td>\n",
       "      <td>alpha</td>\n",
       "      <td>Denotes if an issue or quoting participant rec...</td>\n",
       "      <td>R</td>\n",
       "      <td>s</td>\n",
       "    </tr>\n",
       "    <tr>\n",
       "      <th>short_sale_threshold_indicator</th>\n",
       "      <td>30</td>\n",
       "      <td>1</td>\n",
       "      <td>alpha</td>\n",
       "      <td>Indicates if a security is subject to mandator...</td>\n",
       "      <td>R</td>\n",
       "      <td>s</td>\n",
       "    </tr>\n",
       "    <tr>\n",
       "      <th>ipo_flag</th>\n",
       "      <td>31</td>\n",
       "      <td>1</td>\n",
       "      <td>alpha</td>\n",
       "      <td>Indicates if the Nasdaq security is set up for...</td>\n",
       "      <td>R</td>\n",
       "      <td>s</td>\n",
       "    </tr>\n",
       "    <tr>\n",
       "      <th>luld_reference_price_tier</th>\n",
       "      <td>32</td>\n",
       "      <td>1</td>\n",
       "      <td>alpha</td>\n",
       "      <td>Indicates which Limit Up / Limit Down price ba...</td>\n",
       "      <td>R</td>\n",
       "      <td>s</td>\n",
       "    </tr>\n",
       "    <tr>\n",
       "      <th>etp_flag</th>\n",
       "      <td>33</td>\n",
       "      <td>1</td>\n",
       "      <td>alpha</td>\n",
       "      <td>Indicates whether the security is an exchange ...</td>\n",
       "      <td>R</td>\n",
       "      <td>s</td>\n",
       "    </tr>\n",
       "    <tr>\n",
       "      <th>inverse_indicator</th>\n",
       "      <td>38</td>\n",
       "      <td>1</td>\n",
       "      <td>alpha</td>\n",
       "      <td>Indicates the directional relationship between...</td>\n",
       "      <td>R</td>\n",
       "      <td>s</td>\n",
       "    </tr>\n",
       "    <tr>\n",
       "      <th>stock</th>\n",
       "      <td>11</td>\n",
       "      <td>8</td>\n",
       "      <td>alpha</td>\n",
       "      <td>Stock symbol, right padded with spaces</td>\n",
       "      <td>H</td>\n",
       "      <td>8s</td>\n",
       "    </tr>\n",
       "    <tr>\n",
       "      <th>trading_state</th>\n",
       "      <td>19</td>\n",
       "      <td>1</td>\n",
       "      <td>alpha</td>\n",
       "      <td>Indicates the current trading state for the st...</td>\n",
       "      <td>H</td>\n",
       "      <td>s</td>\n",
       "    </tr>\n",
       "    <tr>\n",
       "      <th>reserved</th>\n",
       "      <td>20</td>\n",
       "      <td>1</td>\n",
       "      <td>alpha</td>\n",
       "      <td>Reserved.</td>\n",
       "      <td>H</td>\n",
       "      <td>s</td>\n",
       "    </tr>\n",
       "    <tr>\n",
       "      <th>reason</th>\n",
       "      <td>21</td>\n",
       "      <td>4</td>\n",
       "      <td>alpha</td>\n",
       "      <td>Trading Action reason.</td>\n",
       "      <td>H</td>\n",
       "      <td>4s</td>\n",
       "    </tr>\n",
       "    <tr>\n",
       "      <th>stock</th>\n",
       "      <td>11</td>\n",
       "      <td>8</td>\n",
       "      <td>alpha</td>\n",
       "      <td>Stock symbol, right padded with spaces</td>\n",
       "      <td>Y</td>\n",
       "      <td>8s</td>\n",
       "    </tr>\n",
       "    <tr>\n",
       "      <th>reg_sho_action</th>\n",
       "      <td>19</td>\n",
       "      <td>1</td>\n",
       "      <td>alpha</td>\n",
       "      <td>Denotes the Reg SHO Short Sale Price Test Rest...</td>\n",
       "      <td>Y</td>\n",
       "      <td>s</td>\n",
       "    </tr>\n",
       "    <tr>\n",
       "      <th>mpid</th>\n",
       "      <td>11</td>\n",
       "      <td>4</td>\n",
       "      <td>alpha</td>\n",
       "      <td>Denotes the market participant identifier for ...</td>\n",
       "      <td>L</td>\n",
       "      <td>4s</td>\n",
       "    </tr>\n",
       "    <tr>\n",
       "      <th>stock</th>\n",
       "      <td>15</td>\n",
       "      <td>8</td>\n",
       "      <td>alpha</td>\n",
       "      <td>Stock symbol, right padded with spaces</td>\n",
       "      <td>L</td>\n",
       "      <td>8s</td>\n",
       "    </tr>\n",
       "    <tr>\n",
       "      <th>primary_market_maker</th>\n",
       "      <td>23</td>\n",
       "      <td>1</td>\n",
       "      <td>alpha</td>\n",
       "      <td>Indicates if the market participant firm quali...</td>\n",
       "      <td>L</td>\n",
       "      <td>s</td>\n",
       "    </tr>\n",
       "    <tr>\n",
       "      <th>market_maker_mode</th>\n",
       "      <td>24</td>\n",
       "      <td>1</td>\n",
       "      <td>alpha</td>\n",
       "      <td>Indicates the quoting participant's registrati...</td>\n",
       "      <td>L</td>\n",
       "      <td>s</td>\n",
       "    </tr>\n",
       "    <tr>\n",
       "      <th>market_participant_state</th>\n",
       "      <td>25</td>\n",
       "      <td>1</td>\n",
       "      <td>alpha</td>\n",
       "      <td>Indicates the market participant's current reg...</td>\n",
       "      <td>L</td>\n",
       "      <td>s</td>\n",
       "    </tr>\n",
       "    <tr>\n",
       "      <th>breached_level</th>\n",
       "      <td>11</td>\n",
       "      <td>1</td>\n",
       "      <td>alpha</td>\n",
       "      <td>Denotes the MWCB Level that was breached. 1 = ...</td>\n",
       "      <td>W</td>\n",
       "      <td>s</td>\n",
       "    </tr>\n",
       "    <tr>\n",
       "      <th>stock</th>\n",
       "      <td>11</td>\n",
       "      <td>8</td>\n",
       "      <td>alpha</td>\n",
       "      <td>Stock symbol, right padded with spaces</td>\n",
       "      <td>K</td>\n",
       "      <td>8s</td>\n",
       "    </tr>\n",
       "    <tr>\n",
       "      <th>ipo_quotation_release_qualifier</th>\n",
       "      <td>23</td>\n",
       "      <td>1</td>\n",
       "      <td>alpha</td>\n",
       "      <td>A = Anticipated Quotation Release Time: \\nThis...</td>\n",
       "      <td>K</td>\n",
       "      <td>s</td>\n",
       "    </tr>\n",
       "    <tr>\n",
       "      <th>stock</th>\n",
       "      <td>11</td>\n",
       "      <td>8</td>\n",
       "      <td>alpha</td>\n",
       "      <td>Stock symbol, right padded with spaces</td>\n",
       "      <td>J</td>\n",
       "      <td>8s</td>\n",
       "    </tr>\n",
       "    <tr>\n",
       "      <th>stock</th>\n",
       "      <td>11</td>\n",
       "      <td>8</td>\n",
       "      <td>alpha</td>\n",
       "      <td>Denotes the security symbol for the issue in N...</td>\n",
       "      <td>h</td>\n",
       "      <td>8s</td>\n",
       "    </tr>\n",
       "    <tr>\n",
       "      <th>market_code</th>\n",
       "      <td>19</td>\n",
       "      <td>1</td>\n",
       "      <td>alpha</td>\n",
       "      <td>Q: Nasdaq\\nB: BX\\nX: PS</td>\n",
       "      <td>h</td>\n",
       "      <td>s</td>\n",
       "    </tr>\n",
       "    <tr>\n",
       "      <th>operational_halt_action</th>\n",
       "      <td>20</td>\n",
       "      <td>1</td>\n",
       "      <td>alpha</td>\n",
       "      <td>H: Operationally Halted on the identified Mark...</td>\n",
       "      <td>h</td>\n",
       "      <td>s</td>\n",
       "    </tr>\n",
       "    <tr>\n",
       "      <th>buy_sell_indicator</th>\n",
       "      <td>19</td>\n",
       "      <td>1</td>\n",
       "      <td>alpha</td>\n",
       "      <td>The type of order being added. B = Buy Order. ...</td>\n",
       "      <td>A</td>\n",
       "      <td>s</td>\n",
       "    </tr>\n",
       "    <tr>\n",
       "      <th>stock</th>\n",
       "      <td>24</td>\n",
       "      <td>8</td>\n",
       "      <td>alpha</td>\n",
       "      <td>Stock symbol, right padded with spaces</td>\n",
       "      <td>A</td>\n",
       "      <td>8s</td>\n",
       "    </tr>\n",
       "    <tr>\n",
       "      <th>buy_sell_indicator</th>\n",
       "      <td>19</td>\n",
       "      <td>1</td>\n",
       "      <td>alpha</td>\n",
       "      <td>The type of order being added. B = Buy Order. ...</td>\n",
       "      <td>F</td>\n",
       "      <td>s</td>\n",
       "    </tr>\n",
       "    <tr>\n",
       "      <th>stock</th>\n",
       "      <td>24</td>\n",
       "      <td>8</td>\n",
       "      <td>alpha</td>\n",
       "      <td>Stock symbol, right padded with spaces</td>\n",
       "      <td>F</td>\n",
       "      <td>8s</td>\n",
       "    </tr>\n",
       "    <tr>\n",
       "      <th>attribution</th>\n",
       "      <td>36</td>\n",
       "      <td>4</td>\n",
       "      <td>alpha</td>\n",
       "      <td>Nasdaq Market participant identifier associate...</td>\n",
       "      <td>F</td>\n",
       "      <td>4s</td>\n",
       "    </tr>\n",
       "    <tr>\n",
       "      <th>printable</th>\n",
       "      <td>31</td>\n",
       "      <td>1</td>\n",
       "      <td>alpha</td>\n",
       "      <td>Indicates if the execution should be reflected...</td>\n",
       "      <td>C</td>\n",
       "      <td>s</td>\n",
       "    </tr>\n",
       "    <tr>\n",
       "      <th>buy_sell_indicator</th>\n",
       "      <td>19</td>\n",
       "      <td>1</td>\n",
       "      <td>alpha</td>\n",
       "      <td>The type of non-display order on the book bein...</td>\n",
       "      <td>P</td>\n",
       "      <td>s</td>\n",
       "    </tr>\n",
       "    <tr>\n",
       "      <th>stock</th>\n",
       "      <td>24</td>\n",
       "      <td>8</td>\n",
       "      <td>alpha</td>\n",
       "      <td>Stock Symbol, right padded with spaces</td>\n",
       "      <td>P</td>\n",
       "      <td>8s</td>\n",
       "    </tr>\n",
       "    <tr>\n",
       "      <th>stock</th>\n",
       "      <td>19</td>\n",
       "      <td>8</td>\n",
       "      <td>alpha</td>\n",
       "      <td>Stock symbol, right padded with spaces</td>\n",
       "      <td>Q</td>\n",
       "      <td>8s</td>\n",
       "    </tr>\n",
       "    <tr>\n",
       "      <th>cross_type</th>\n",
       "      <td>39</td>\n",
       "      <td>1</td>\n",
       "      <td>alpha</td>\n",
       "      <td>The Nasdaq cross session for which the message...</td>\n",
       "      <td>Q</td>\n",
       "      <td>s</td>\n",
       "    </tr>\n",
       "    <tr>\n",
       "      <th>imbalance_direction</th>\n",
       "      <td>27</td>\n",
       "      <td>1</td>\n",
       "      <td>alpha</td>\n",
       "      <td>The market side of the order imbalance. \\nB = ...</td>\n",
       "      <td>I</td>\n",
       "      <td>s</td>\n",
       "    </tr>\n",
       "    <tr>\n",
       "      <th>stock</th>\n",
       "      <td>28</td>\n",
       "      <td>8</td>\n",
       "      <td>alpha</td>\n",
       "      <td>Stock symbol, right padded with spaces</td>\n",
       "      <td>I</td>\n",
       "      <td>8s</td>\n",
       "    </tr>\n",
       "    <tr>\n",
       "      <th>cross_type</th>\n",
       "      <td>48</td>\n",
       "      <td>1</td>\n",
       "      <td>alpha</td>\n",
       "      <td>The type of Nasdaq cross for which the NOII me...</td>\n",
       "      <td>I</td>\n",
       "      <td>s</td>\n",
       "    </tr>\n",
       "    <tr>\n",
       "      <th>price_variation_indicator</th>\n",
       "      <td>49</td>\n",
       "      <td>1</td>\n",
       "      <td>alpha</td>\n",
       "      <td>This field indicates the absolute value of the...</td>\n",
       "      <td>I</td>\n",
       "      <td>s</td>\n",
       "    </tr>\n",
       "  </tbody>\n",
       "</table>\n",
       "</div>"
      ],
      "text/plain": [
       "                                 offset  length  value  \\\n",
       "name                                                     \n",
       "event_code                           11       1  alpha   \n",
       "stock                                11       8  alpha   \n",
       "market_category                      19       1  alpha   \n",
       "financial_status_indicator           20       1  alpha   \n",
       "round_lots_only                      25       1  alpha   \n",
       "issue_classification                 26       1  alpha   \n",
       "issue_sub_type                       27       2  alpha   \n",
       "authenticity                         29       1  alpha   \n",
       "short_sale_threshold_indicator       30       1  alpha   \n",
       "ipo_flag                             31       1  alpha   \n",
       "luld_reference_price_tier            32       1  alpha   \n",
       "etp_flag                             33       1  alpha   \n",
       "inverse_indicator                    38       1  alpha   \n",
       "stock                                11       8  alpha   \n",
       "trading_state                        19       1  alpha   \n",
       "reserved                             20       1  alpha   \n",
       "reason                               21       4  alpha   \n",
       "stock                                11       8  alpha   \n",
       "reg_sho_action                       19       1  alpha   \n",
       "mpid                                 11       4  alpha   \n",
       "stock                                15       8  alpha   \n",
       "primary_market_maker                 23       1  alpha   \n",
       "market_maker_mode                    24       1  alpha   \n",
       "market_participant_state             25       1  alpha   \n",
       "breached_level                       11       1  alpha   \n",
       "stock                                11       8  alpha   \n",
       "ipo_quotation_release_qualifier      23       1  alpha   \n",
       "stock                                11       8  alpha   \n",
       "stock                                11       8  alpha   \n",
       "market_code                          19       1  alpha   \n",
       "operational_halt_action              20       1  alpha   \n",
       "buy_sell_indicator                   19       1  alpha   \n",
       "stock                                24       8  alpha   \n",
       "buy_sell_indicator                   19       1  alpha   \n",
       "stock                                24       8  alpha   \n",
       "attribution                          36       4  alpha   \n",
       "printable                            31       1  alpha   \n",
       "buy_sell_indicator                   19       1  alpha   \n",
       "stock                                24       8  alpha   \n",
       "stock                                19       8  alpha   \n",
       "cross_type                           39       1  alpha   \n",
       "imbalance_direction                  27       1  alpha   \n",
       "stock                                28       8  alpha   \n",
       "cross_type                           48       1  alpha   \n",
       "price_variation_indicator            49       1  alpha   \n",
       "\n",
       "                                                                             notes  \\\n",
       "name                                                                                 \n",
       "event_code                                            See System Event Codes below   \n",
       "stock                            Denotes the security symbol for the issue in t...   \n",
       "market_category                  Indicates Listing market or listing market tie...   \n",
       "financial_status_indicator       For Nasdaq listed issues, this field indicates...   \n",
       "round_lots_only                  Indicates if Nasdaq system limits order entry ...   \n",
       "issue_classification             Identifies the security class for the issue as...   \n",
       "issue_sub_type                   Identifies the security sub-type for the issue...   \n",
       "authenticity                     Denotes if an issue or quoting participant rec...   \n",
       "short_sale_threshold_indicator   Indicates if a security is subject to mandator...   \n",
       "ipo_flag                         Indicates if the Nasdaq security is set up for...   \n",
       "luld_reference_price_tier        Indicates which Limit Up / Limit Down price ba...   \n",
       "etp_flag                         Indicates whether the security is an exchange ...   \n",
       "inverse_indicator                Indicates the directional relationship between...   \n",
       "stock                                       Stock symbol, right padded with spaces   \n",
       "trading_state                    Indicates the current trading state for the st...   \n",
       "reserved                                                                 Reserved.   \n",
       "reason                                                      Trading Action reason.   \n",
       "stock                                       Stock symbol, right padded with spaces   \n",
       "reg_sho_action                   Denotes the Reg SHO Short Sale Price Test Rest...   \n",
       "mpid                             Denotes the market participant identifier for ...   \n",
       "stock                                       Stock symbol, right padded with spaces   \n",
       "primary_market_maker             Indicates if the market participant firm quali...   \n",
       "market_maker_mode                Indicates the quoting participant's registrati...   \n",
       "market_participant_state         Indicates the market participant's current reg...   \n",
       "breached_level                   Denotes the MWCB Level that was breached. 1 = ...   \n",
       "stock                                       Stock symbol, right padded with spaces   \n",
       "ipo_quotation_release_qualifier  A = Anticipated Quotation Release Time: \\nThis...   \n",
       "stock                                       Stock symbol, right padded with spaces   \n",
       "stock                            Denotes the security symbol for the issue in N...   \n",
       "market_code                                                Q: Nasdaq\\nB: BX\\nX: PS   \n",
       "operational_halt_action          H: Operationally Halted on the identified Mark...   \n",
       "buy_sell_indicator               The type of order being added. B = Buy Order. ...   \n",
       "stock                                       Stock symbol, right padded with spaces   \n",
       "buy_sell_indicator               The type of order being added. B = Buy Order. ...   \n",
       "stock                                       Stock symbol, right padded with spaces   \n",
       "attribution                      Nasdaq Market participant identifier associate...   \n",
       "printable                        Indicates if the execution should be reflected...   \n",
       "buy_sell_indicator               The type of non-display order on the book bein...   \n",
       "stock                                       Stock Symbol, right padded with spaces   \n",
       "stock                                       Stock symbol, right padded with spaces   \n",
       "cross_type                       The Nasdaq cross session for which the message...   \n",
       "imbalance_direction              The market side of the order imbalance. \\nB = ...   \n",
       "stock                                       Stock symbol, right padded with spaces   \n",
       "cross_type                       The type of Nasdaq cross for which the NOII me...   \n",
       "price_variation_indicator        This field indicates the absolute value of the...   \n",
       "\n",
       "                                message_type formats  \n",
       "name                                                  \n",
       "event_code                                 S       s  \n",
       "stock                                      R      8s  \n",
       "market_category                            R       s  \n",
       "financial_status_indicator                 R       s  \n",
       "round_lots_only                            R       s  \n",
       "issue_classification                       R       s  \n",
       "issue_sub_type                             R      2s  \n",
       "authenticity                               R       s  \n",
       "short_sale_threshold_indicator             R       s  \n",
       "ipo_flag                                   R       s  \n",
       "luld_reference_price_tier                  R       s  \n",
       "etp_flag                                   R       s  \n",
       "inverse_indicator                          R       s  \n",
       "stock                                      H      8s  \n",
       "trading_state                              H       s  \n",
       "reserved                                   H       s  \n",
       "reason                                     H      4s  \n",
       "stock                                      Y      8s  \n",
       "reg_sho_action                             Y       s  \n",
       "mpid                                       L      4s  \n",
       "stock                                      L      8s  \n",
       "primary_market_maker                       L       s  \n",
       "market_maker_mode                          L       s  \n",
       "market_participant_state                   L       s  \n",
       "breached_level                             W       s  \n",
       "stock                                      K      8s  \n",
       "ipo_quotation_release_qualifier            K       s  \n",
       "stock                                      J      8s  \n",
       "stock                                      h      8s  \n",
       "market_code                                h       s  \n",
       "operational_halt_action                    h       s  \n",
       "buy_sell_indicator                         A       s  \n",
       "stock                                      A      8s  \n",
       "buy_sell_indicator                         F       s  \n",
       "stock                                      F      8s  \n",
       "attribution                                F      4s  \n",
       "printable                                  C       s  \n",
       "buy_sell_indicator                         P       s  \n",
       "stock                                      P      8s  \n",
       "stock                                      Q      8s  \n",
       "cross_type                                 Q       s  \n",
       "imbalance_direction                        I       s  \n",
       "stock                                      I      8s  \n",
       "cross_type                                 I       s  \n",
       "price_variation_indicator                  I       s  "
      ]
     },
     "execution_count": 27,
     "metadata": {},
     "output_type": "execute_result"
    }
   ],
   "source": [
    "alpha_fields"
   ]
  },
  {
   "cell_type": "markdown",
   "metadata": {
    "pycharm": {
     "name": "#%% md\n"
    }
   },
   "source": [
    "Fields of `alpha` type (alphanumeric) require post-processing as defined in the `format_alpha` function:"
   ]
  },
  {
   "cell_type": "code",
   "execution_count": 28,
   "metadata": {
    "ExecuteTime": {
     "end_time": "2021-09-10T19:16:55.983873Z",
     "start_time": "2021-09-10T19:16:55.977708Z"
    },
    "pycharm": {
     "name": "#%%\n"
    }
   },
   "outputs": [],
   "source": [
    "def format_alpha(mtype, data):\n",
    "    \"\"\"Process byte strings of type alpha\"\"\"\n",
    "\n",
    "    for col in alpha_formats.get(mtype).keys():\n",
    "        if mtype != 'R' and col == 'stock':\n",
    "            data = data.drop(col, axis=1)\n",
    "            continue\n",
    "        data.loc[:, col] = data.loc[:, col].str.decode(\"utf-8\").str.strip()\n",
    "        if encoding.get(col):\n",
    "            data.loc[:, col] = data.loc[:, col].map(encoding.get(col))\n",
    "            # Impesud Note:\n",
    "            # Added code to resolve the bug with the conversion data. Converted to integers.\n",
    "            data[col] = data[col].astype(int) \n",
    "    return data"
   ]
  },
  {
   "cell_type": "markdown",
   "metadata": {
    "pycharm": {
     "name": "#%% md\n"
    }
   },
   "source": [
    "## Process Binary Message Data"
   ]
  },
  {
   "cell_type": "markdown",
   "metadata": {
    "pycharm": {
     "name": "#%% md\n"
    }
   },
   "source": [
    "The binary file for a single day contains over 350,000,000 messages worth over 12 GB."
   ]
  },
  {
   "cell_type": "code",
   "execution_count": 29,
   "metadata": {
    "ExecuteTime": {
     "end_time": "2021-09-10T19:16:56.775689Z",
     "start_time": "2021-09-10T19:16:56.758297Z"
    },
    "pycharm": {
     "name": "#%%\n"
    }
   },
   "outputs": [],
   "source": [
    "def store_messages(m):\n",
    "    \n",
    "    \"\"\"Handle occasional storing of all messages\"\"\"\n",
    "    with pd.HDFStore(itch_store) as store:\n",
    "        for mtype, data in m.items():\n",
    "            # convert to DataFrame\n",
    "            data = pd.DataFrame(data)\n",
    "\n",
    "            # parse timestamp info\n",
    "            data.timestamp = data.timestamp.apply(int.from_bytes, byteorder='big')\n",
    "            data.timestamp = pd.to_timedelta(data.timestamp)\n",
    "\n",
    "            # apply alpha formatting\n",
    "            if mtype in alpha_formats.keys():\n",
    "                data = format_alpha(mtype, data)\n",
    "\n",
    "            s = alpha_length.get(mtype)\n",
    "            if s:\n",
    "                s = {c: s.get(c) for c in data.columns}\n",
    "            dc = ['stock_locate']\n",
    "            if m == 'R':\n",
    "                dc.append('stock')\n",
    "            try:\n",
    "                store.append(mtype,\n",
    "                         data,\n",
    "                         format='table',\n",
    "                         min_itemsize=s,\n",
    "                         data_columns=dc)\n",
    "            except Exception as e:\n",
    "                print(e)\n",
    "                print(mtype)\n",
    "                print(data.info())\n",
    "                print(pd.Series(list(m.keys())).value_counts())\n",
    "                data.to_csv('data.csv', index=False)\n",
    "                return 1 \n",
    "    return 0"
   ]
  },
  {
   "cell_type": "code",
   "execution_count": 30,
   "metadata": {
    "ExecuteTime": {
     "end_time": "2021-09-10T19:16:58.544775Z",
     "start_time": "2021-09-10T19:16:58.542706Z"
    },
    "pycharm": {
     "name": "#%%\n"
    }
   },
   "outputs": [],
   "source": [
    "messages = defaultdict(list)\n",
    "message_count = 0\n",
    "message_type_counter = Counter()"
   ]
  },
  {
   "cell_type": "markdown",
   "metadata": {
    "pycharm": {
     "name": "#%% md\n"
    }
   },
   "source": [
    "The script appends the parsed result iteratively to a file in the fast HDF5 format using the `store_messages()` function we just defined to avoid memory constraints (see last section in chapter 2 for more on this format)."
   ]
  },
  {
   "cell_type": "markdown",
   "metadata": {
    "pycharm": {
     "name": "#%% md\n"
    }
   },
   "source": [
    "The following code processes the binary file and produces the parsed orders stored by message type:"
   ]
  },
  {
   "cell_type": "code",
   "execution_count": 31,
   "metadata": {
    "ExecuteTime": {
     "end_time": "2021-09-10T19:47:08.996707Z",
     "start_time": "2021-09-10T19:16:59.167416Z"
    },
    "pycharm": {
     "name": "#%%\n"
    }
   },
   "outputs": [
    {
     "name": "stdout",
     "output_type": "stream",
     "text": [
      "\n",
      " Start of Messages\n",
      "\t03:04:32.06\t           0\n"
     ]
    },
    {
     "name": "stdout",
     "output_type": "stream",
     "text": [
      "\n",
      " Start of System Hours\n",
      "\t04:00:00.00\t     241,732\n",
      "\n",
      " Start of Market Hours\n",
      "\t09:30:00.00\t   6,696,721\n",
      "\t09:46:11.09\t  25,000,000\t00:01:35.84\n",
      "\t10:10:40.77\t  50,000,000\t00:06:07.45\n",
      "\t10:35:00.57\t  75,000,000\t00:10:28.10\n",
      "\t11:07:01.95\t 100,000,000\t00:15:23.07\n",
      "\t11:43:48.84\t 125,000,000\t00:20:08.07\n",
      "\t12:29:57.42\t 150,000,000\t00:24:08.57\n",
      "\t13:22:28.23\t 175,000,000\t00:27:37.33\n",
      "\t14:17:00.37\t 200,000,000\t00:31:08.65\n",
      "\t15:08:51.27\t 225,000,000\t00:34:14.84\n",
      "\t15:50:07.10\t 250,000,000\t00:37:25.55\n",
      "\n",
      " End of Market Hours\n",
      "\t16:00:00.00\t 265,920,781\n",
      "\n",
      " End of System Hours\n",
      "\t20:00:00.00\t 268,693,578\n",
      "\n",
      " End of Messages\n",
      "\t20:05:00.00\t 268,744,779\n",
      "Duration: 00:41:39.13\n"
     ]
    }
   ],
   "source": [
    "start = time()\n",
    "with file_name.open('rb') as data:\n",
    "    while True:\n",
    "\n",
    "        # determine message size in bytes\n",
    "        message_size = int.from_bytes(data.read(2), byteorder='big', signed=False)\n",
    "        \n",
    "        # get message type by reading first byte\n",
    "        message_type = data.read(1).decode('ascii')        \n",
    "        message_type_counter.update([message_type])\n",
    "\n",
    "        # read & store message\n",
    "        try:\n",
    "            record = data.read(message_size - 1)\n",
    "            message = message_fields[message_type]._make(unpack(fstring[message_type], record))\n",
    "            messages[message_type].append(message)\n",
    "        except Exception as e:\n",
    "            print(e)\n",
    "            print('Message Type: ', message_type)\n",
    "            print('Record: ', record)\n",
    "            print('Message: ', fstring[message_type])\n",
    "        \n",
    "        # deal with system events\n",
    "        if message_type == 'S':\n",
    "            seconds = int.from_bytes(message.timestamp, byteorder='big') * 1e-9\n",
    "            print('\\n', event_codes.get(message.event_code.decode('ascii'), 'Error'))\n",
    "            print(f'\\t{format_time(seconds)}\\t{message_count:12,.0f}')\n",
    "            if message.event_code.decode('ascii') == 'C':\n",
    "                store_messages(messages)\n",
    "                break\n",
    "        message_count += 1\n",
    "\n",
    "        if message_count % 2.5e7 == 0:\n",
    "            seconds = int.from_bytes(message.timestamp, byteorder='big') * 1e-9\n",
    "            d = format_time(time() - start)\n",
    "            print(f'\\t{format_time(seconds)}\\t{message_count:12,.0f}\\t{d}')\n",
    "            res = store_messages(messages)\n",
    "            if res == 1:\n",
    "                print('Series: ', pd.Series(dict(message_type_counter)).sort_values())\n",
    "                break\n",
    "            messages.clear()\n",
    "\n",
    "print('Duration:', format_time(time() - start))"
   ]
  },
  {
   "cell_type": "code",
   "execution_count": 32,
   "metadata": {},
   "outputs": [
    {
     "name": "stdout",
     "output_type": "stream",
     "text": [
      "<class 'pandas.io.pytables.HDFStore'>\n",
      "File path: D:\\temp\\itch.h5\n",
      "/A            frame_table  (typ->appendable,nrows->117145568,ncols->7,indexers->[index],dc->[stock_locate,tracking_number,timestamp,order_reference_number,buy_sell_indicator,shares,price])                                                                                                                                                                                       \n",
      "/C            frame_table  (typ->appendable,nrows->99917,ncols->8,indexers->[index],dc->[stock_locate,tracking_number,timestamp,order_reference_number,executed_shares,match_number,printable,execution_price])                                                                                                                                                                    \n",
      "/D            frame_table  (typ->appendable,nrows->114360997,ncols->4,indexers->[index],dc->[stock_locate])                                                                                                                                                                                                                                                                        \n",
      "/E            frame_table  (typ->appendable,nrows->5722824,ncols->6,indexers->[index],dc->[stock_locate])                                                                                                                                                                                                                                                                          \n",
      "/F            frame_table  (typ->appendable,nrows->1485888,ncols->8,indexers->[index],dc->[stock_locate,tracking_number,timestamp,order_reference_number,buy_sell_indicator,shares,price,attribution])                                                                                                                                                                             \n",
      "/H            frame_table  (typ->appendable,nrows->8966,ncols->6,indexers->[index],dc->[stock_locate,tracking_number,timestamp,trading_state,reserved,reason])                                                                                                                                                                                                                     \n",
      "/I            frame_table  (typ->appendable,nrows->4024315,ncols->11,indexers->[index],dc->[stock_locate,tracking_number,timestamp,paired_shares,imbalance_shares,imbalance_direction,far_price,near_price,current_reference_price,cross_type,price_variation_indicator])                                                                                                          \n",
      "/J            frame_table  (typ->appendable,nrows->34,ncols->7,indexers->[index],dc->[stock_locate,tracking_number,timestamp,auction_collar_reference_price,upper_auction_collar_price,lower_auction_collar_price,auction_collar_extension])                                                                                                                                       \n",
      "/K            frame_table  (typ->appendable,nrows->3,ncols->6,indexers->[index],dc->[stock_locate,tracking_number,timestamp,ipo_quotation_release_time,ipo_quotation_release_qualifier,ipo_price])                                                                                                                                                                                 \n",
      "/L            frame_table  (typ->appendable,nrows->215161,ncols->7,indexers->[index],dc->[stock_locate,tracking_number,timestamp,mpid,primary_market_maker,market_maker_mode,market_participant_state])                                                                                                                                                                            \n",
      "/P            frame_table  (typ->appendable,nrows->1218602,ncols->8,indexers->[index],dc->[stock_locate,tracking_number,timestamp,order_reference_number,buy_sell_indicator,shares,price,match_number])                                                                                                                                                                            \n",
      "/Q            frame_table  (typ->appendable,nrows->17836,ncols->7,indexers->[index],dc->[stock_locate,tracking_number,timestamp,shares,cross_price,match_number,cross_type])                                                                                                                                                                                                       \n",
      "/R            frame_table  (typ->appendable,nrows->8906,ncols->17,indexers->[index],dc->[stock_locate,tracking_number,timestamp,stock,market_category,financial_status_indicator,round_lot_size,round_lots_only,issue_classification,issue_sub_type,authenticity,short_sale_threshold_indicator,ipo_flag,luld_reference_price_tier,etp_flag,etp_leverage_factor,inverse_indicator])\n",
      "/S            frame_table  (typ->appendable,nrows->6,ncols->4,indexers->[index],dc->[stock_locate,tracking_number,timestamp,event_code])                                                                                                                                                                                                                                           \n",
      "/U            frame_table  (typ->appendable,nrows->21639067,ncols->7,indexers->[index],dc->[stock_locate])                                                                                                                                                                                                                                                                         \n",
      "/V            frame_table  (typ->appendable,nrows->1,ncols->6,indexers->[index],dc->[stock_locate])                                                                                                                                                                                                                                                                                \n",
      "/X            frame_table  (typ->appendable,nrows->2787676,ncols->5,indexers->[index],dc->[stock_locate])                                                                                                                                                                                                                                                                          \n",
      "/Y            frame_table  (typ->appendable,nrows->9013,ncols->4,indexers->[index],dc->[stock_locate,tracking_number,timestamp,reg_sho_action])                                                                                                                                                                                                                                    \n"
     ]
    }
   ],
   "source": [
    "# Impesud Note:\n",
    "# Check formats with info() method\n",
    "with pd.HDFStore(itch_store) as store:\n",
    "    print(store.info())"
   ]
  },
  {
   "cell_type": "markdown",
   "metadata": {
    "pycharm": {
     "name": "#%% md\n"
    }
   },
   "source": [
    "## Summarize Trading Day"
   ]
  },
  {
   "cell_type": "markdown",
   "metadata": {
    "pycharm": {
     "name": "#%% md\n"
    }
   },
   "source": [
    "### Trading Message Frequency"
   ]
  },
  {
   "cell_type": "code",
   "execution_count": 33,
   "metadata": {
    "ExecuteTime": {
     "end_time": "2021-09-11T00:30:52.079504Z",
     "start_time": "2021-09-11T00:30:52.061240Z"
    },
    "pycharm": {
     "name": "#%%\n"
    }
   },
   "outputs": [
    {
     "data": {
      "text/html": [
       "<div>\n",
       "<style scoped>\n",
       "    .dataframe tbody tr th:only-of-type {\n",
       "        vertical-align: middle;\n",
       "    }\n",
       "\n",
       "    .dataframe tbody tr th {\n",
       "        vertical-align: top;\n",
       "    }\n",
       "\n",
       "    .dataframe thead th {\n",
       "        text-align: right;\n",
       "    }\n",
       "</style>\n",
       "<table border=\"1\" class=\"dataframe\">\n",
       "  <thead>\n",
       "    <tr style=\"text-align: right;\">\n",
       "      <th></th>\n",
       "      <th>Message Type</th>\n",
       "      <th># Trades</th>\n",
       "    </tr>\n",
       "  </thead>\n",
       "  <tbody>\n",
       "    <tr>\n",
       "      <th>A</th>\n",
       "      <td>add_order_no_mpid_attribution</td>\n",
       "      <td>117145568</td>\n",
       "    </tr>\n",
       "    <tr>\n",
       "      <th>D</th>\n",
       "      <td>order_delete</td>\n",
       "      <td>114360997</td>\n",
       "    </tr>\n",
       "    <tr>\n",
       "      <th>U</th>\n",
       "      <td>order_replace</td>\n",
       "      <td>21639067</td>\n",
       "    </tr>\n",
       "    <tr>\n",
       "      <th>E</th>\n",
       "      <td>order_executed</td>\n",
       "      <td>5722824</td>\n",
       "    </tr>\n",
       "    <tr>\n",
       "      <th>I</th>\n",
       "      <td>noii</td>\n",
       "      <td>4024315</td>\n",
       "    </tr>\n",
       "    <tr>\n",
       "      <th>X</th>\n",
       "      <td>order_cancel</td>\n",
       "      <td>2787676</td>\n",
       "    </tr>\n",
       "    <tr>\n",
       "      <th>F</th>\n",
       "      <td>add_order_mpid_attribution</td>\n",
       "      <td>1485888</td>\n",
       "    </tr>\n",
       "    <tr>\n",
       "      <th>P</th>\n",
       "      <td>trade</td>\n",
       "      <td>1218602</td>\n",
       "    </tr>\n",
       "    <tr>\n",
       "      <th>L</th>\n",
       "      <td>market_participant_position</td>\n",
       "      <td>215161</td>\n",
       "    </tr>\n",
       "    <tr>\n",
       "      <th>C</th>\n",
       "      <td>order_executed_with_price</td>\n",
       "      <td>99917</td>\n",
       "    </tr>\n",
       "    <tr>\n",
       "      <th>Q</th>\n",
       "      <td>cross_trade</td>\n",
       "      <td>17836</td>\n",
       "    </tr>\n",
       "    <tr>\n",
       "      <th>Y</th>\n",
       "      <td>reg_sho_short_sale_price_test_restricted_indic...</td>\n",
       "      <td>9013</td>\n",
       "    </tr>\n",
       "    <tr>\n",
       "      <th>H</th>\n",
       "      <td>stock_trading_action</td>\n",
       "      <td>8966</td>\n",
       "    </tr>\n",
       "    <tr>\n",
       "      <th>R</th>\n",
       "      <td>stock_directory</td>\n",
       "      <td>8906</td>\n",
       "    </tr>\n",
       "    <tr>\n",
       "      <th>J</th>\n",
       "      <td>luld_auction_collar</td>\n",
       "      <td>34</td>\n",
       "    </tr>\n",
       "    <tr>\n",
       "      <th>S</th>\n",
       "      <td>system_event</td>\n",
       "      <td>6</td>\n",
       "    </tr>\n",
       "    <tr>\n",
       "      <th>K</th>\n",
       "      <td>ipo_quoting_period_update</td>\n",
       "      <td>3</td>\n",
       "    </tr>\n",
       "    <tr>\n",
       "      <th>V</th>\n",
       "      <td>market_wide_circuit_breaker_decline_level</td>\n",
       "      <td>1</td>\n",
       "    </tr>\n",
       "  </tbody>\n",
       "</table>\n",
       "</div>"
      ],
      "text/plain": [
       "                                        Message Type   # Trades\n",
       "A                      add_order_no_mpid_attribution  117145568\n",
       "D                                       order_delete  114360997\n",
       "U                                      order_replace   21639067\n",
       "E                                     order_executed    5722824\n",
       "I                                               noii    4024315\n",
       "X                                       order_cancel    2787676\n",
       "F                         add_order_mpid_attribution    1485888\n",
       "P                                              trade    1218602\n",
       "L                        market_participant_position     215161\n",
       "C                          order_executed_with_price      99917\n",
       "Q                                        cross_trade      17836\n",
       "Y  reg_sho_short_sale_price_test_restricted_indic...       9013\n",
       "H                               stock_trading_action       8966\n",
       "R                                    stock_directory       8906\n",
       "J                                luld_auction_collar         34\n",
       "S                                       system_event          6\n",
       "K                          ipo_quoting_period_update          3\n",
       "V          market_wide_circuit_breaker_decline_level          1"
      ]
     },
     "execution_count": 33,
     "metadata": {},
     "output_type": "execute_result"
    }
   ],
   "source": [
    "counter = pd.Series(message_type_counter).to_frame('# Trades')\n",
    "counter['Message Type'] = counter.index.map(message_labels.set_index('message_type').name.to_dict())\n",
    "counter = counter[['Message Type', '# Trades']].sort_values('# Trades', ascending=False)\n",
    "counter"
   ]
  },
  {
   "cell_type": "markdown",
   "metadata": {
    "pycharm": {
     "name": "#%% md\n"
    }
   },
   "source": [
    "### Top Equities by Traded Value"
   ]
  },
  {
   "cell_type": "code",
   "execution_count": 34,
   "metadata": {
    "ExecuteTime": {
     "end_time": "2021-09-11T00:30:56.721668Z",
     "start_time": "2021-09-11T00:30:55.211662Z"
    },
    "pycharm": {
     "name": "#%%\n"
    }
   },
   "outputs": [
    {
     "data": {
      "image/png": "[encoded data removed]",
      "text/plain": [
       "<Figure size 1400x600 with 1 Axes>"
      ]
     },
     "metadata": {},
     "output_type": "display_data"
    }
   ],
   "source": [
    "with pd.HDFStore(itch_store) as store:\n",
    "    stocks = store['R'].loc[:, ['stock_locate', 'stock']]\n",
    "    # trades = store['P'].append(store['Q'].rename(columns={'cross_price': 'price'}), sort=False).merge(stocks)\n",
    "    # Impesud Note:\n",
    "    # The append() method is deprecated on new versions of Pandas and no longer works. Use the _append() method.\n",
    "    # The concat method cannot be used because it changes the format of Q, from \"table\" to \"fixed\"\n",
    "    trades = store['P']._append(store['Q'].rename(columns={'cross_price': 'price'}), sort=False).merge(stocks)\n",
    "    trades = pd.concat([store['P'], store['Q']]).merge(stocks)\n",
    "\n",
    "trades['value'] = trades.shares.mul(trades.price)\n",
    "trades['value_share'] = trades.value.div(trades.value.sum())\n",
    "\n",
    "trade_summary = trades.groupby('stock').value_share.sum().sort_values(ascending=False)\n",
    "trade_summary.iloc[:50].plot.bar(figsize=(14, 6), color='darkblue', title='Share of Traded Value')\n",
    "\n",
    "plt.gca().yaxis.set_major_formatter(FuncFormatter(lambda y, _: '{:.0%}'.format(y)))\n",
    "sns.despine()\n",
    "plt.tight_layout()"
   ]
  }
 ],
 "metadata": {
  "kernelspec": {
   "display_name": "Python 3 (ipykernel)",
   "language": "python",
   "name": "python3"
  },
  "language_info": {
   "codemirror_mode": {
    "name": "ipython",
    "version": 3
   },
   "file_extension": ".py",
   "mimetype": "text/x-python",
   "name": "python",
   "nbconvert_exporter": "python",
   "pygments_lexer": "ipython3",
   "version": "3.8.10"
  },
  "toc": {
   "base_numbering": 1,
   "nav_menu": {},
   "number_sections": true,
   "sideBar": true,
   "skip_h1_title": true,
   "title_cell": "Table of Contents",
   "title_sidebar": "Contents",
   "toc_cell": false,
   "toc_position": {
    "height": "calc(100% - 180px)",
    "left": "10px",
    "top": "150px",
    "width": "282px"
   },
   "toc_section_display": true,
   "toc_window_display": true
  }
 },
 "nbformat": 4,
 "nbformat_minor": 4
}
